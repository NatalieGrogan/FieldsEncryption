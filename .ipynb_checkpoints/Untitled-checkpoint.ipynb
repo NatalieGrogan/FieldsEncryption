{
 "cells": [
  {
   "cell_type": "code",
   "execution_count": 1,
   "id": "1a09a4c6",
   "metadata": {},
   "outputs": [],
   "source": [
    "import numpy as np\n",
    "from math import floor"
   ]
  },
  {
   "cell_type": "code",
   "execution_count": 39,
   "id": "85ee70e8",
   "metadata": {},
   "outputs": [],
   "source": [
    "def addInverse(self):\n",
    "    assert type(self) == modNum\n",
    "    \n",
    "    if self == 0:\n",
    "        return modNum(self.value,self.prime)\n",
    "    else:\n",
    "        return modNum(self.prime-self.value,self.prime)\n",
    "    \n",
    "def mulInverse(self):\n",
    "    assert type(self) == modNum\n",
    "    \n",
    "    if self.value == 0:\n",
    "        return modNum(self.value, self.prime)\n",
    "    else:\n",
    "        rOne = modNum(self.value,self.prime)\n",
    "        rZero = modNum(self.prime,self.prime)\n",
    "        tZero = modNum(0,self.prime)\n",
    "        tOne = modNum(1,self.prime)\n",
    "        rTemp = modNum(100,self.prime)\n",
    "        q= modNum(0,self.prime)\n",
    "        while rTemp.value != 0: \n",
    "            q = modNum((rZero.value//rOne.value),self.prime)\n",
    "            rTemp = ( rZero + addInverse( (q * rOne) ) )\n",
    "            rZero = rOne\n",
    "            rOne = rTemp\n",
    "            tTemp = tZero - (q * tOne) \n",
    "            tZero = tOne\n",
    "            tOne = tTemp\n",
    "        return modNum(tZero.value,self.prime)"
   ]
  },
  {
   "cell_type": "code",
   "execution_count": 49,
   "id": "c7b9a926",
   "metadata": {},
   "outputs": [],
   "source": [
    "class modNum:\n",
    "    def __init__(self, value, prime):\n",
    "        assert type(value) == int, 'This only creates Fields with integers'\n",
    "        assert type(prime) == int, 'This only creates Fields with integers'\n",
    "        \n",
    "        if prime == 0:\n",
    "            raise Exception(\"Can't create a Field over 0\")\n",
    "        self.prime = prime\n",
    "        self.value = value % prime\n",
    "    \n",
    "    def __str__(self):\n",
    "        return f\"{self.value} in Field N{self.prime}\"\n",
    "    \n",
    "    def __add__(self,b):\n",
    "        assert type(b) == type(self), 'In a + b, either a or b is not a modNum'\n",
    "        assert self.prime == b.prime, f\"Can't add a modNum from group N{self.prime} and N{b.prime}\"\n",
    "        \n",
    "        value = (self.value + b.value) % self.prime\n",
    "        return modNum(value,self.prime)\n",
    "    \n",
    "    def __radd__(self,b):\n",
    "        assert type(b) == type(self), 'In b + a, either a or b is not a modNum'\n",
    "        assert self.prime == b.prime, f\"Can't add modNums from different groups N{self.prime} and N{b.prime}\"\n",
    "        \n",
    "        if b.value == 0:\n",
    "            return self.value\n",
    "        else:\n",
    "            return self.add(b.value)\n",
    "        \n",
    "    def __sub__(self,b):\n",
    "        assert type(b) == type(self), 'In a - b, either a or b is not a modNum'\n",
    "        assert self.prime == b.prime, f\"Can't subtract modNums from different groups, N{self.prime} and N{b.prime}\"\n",
    "        \n",
    "        temp = self + addInverse(b)\n",
    "        return modNum(temp.value,self.prime)\n",
    "    \n",
    "    def __mul__(self,b):\n",
    "        assert type(b) == type(self), f'In a * b, a is {type(self)} and b is {type(b)} one is not a modNum'\n",
    "        assert self.prime == b.prime, f\"Can't multiply modNums from different groups N{self.prime} and N{b.prime}\"\n",
    "        \n",
    "        value = (self.value * b.value) % self.prime\n",
    "        return modNum(value,self.prime)\n",
    "    \n",
    "    def __floordiv__(self,b):\n",
    "        assert type(b) == type(self), 'In a / b, either a or b is not a modNum'\n",
    "        assert self.prime == b.prime, f\"Can't divide modNums from different groups N{self.prime} and N{b.prime}\"\n",
    "        \n",
    "        temp = (self * mulInverse(b))\n",
    "        return modNum(temp.value,self.prime)\n",
    "    \n",
    "    def __truediv__(self,b):\n",
    "        assert type(b) == type(self), 'In a / b, either a or b is not a modNum'\n",
    "        assert self.prime == b.prime, f\"Can't divide modNums from different groups N{self.prime} and N{b.prime}\"\n",
    "        \n",
    "        temp = (self * mulInverse(b))\n",
    "        return modNum(temp.value,self.prime)\n",
    "    \n",
    "    "
   ]
  },
  {
   "cell_type": "code",
   "execution_count": 54,
   "id": "d2753b1a",
   "metadata": {},
   "outputs": [
    {
     "name": "stdout",
     "output_type": "stream",
     "text": [
      "0 in Field N1\n"
     ]
    }
   ],
   "source": [
    "p1 = modNum(2,1)\n",
    "p2 = modNum(3,7)\n",
    "p3 = mulInverse(p1)\n",
    "print(p1)"
   ]
  },
  {
   "cell_type": "code",
   "execution_count": null,
   "id": "8deff84c",
   "metadata": {},
   "outputs": [],
   "source": []
  }
 ],
 "metadata": {
  "kernelspec": {
   "display_name": "Python 3",
   "language": "python",
   "name": "python3"
  },
  "language_info": {
   "codemirror_mode": {
    "name": "ipython",
    "version": 3
   },
   "file_extension": ".py",
   "mimetype": "text/x-python",
   "name": "python",
   "nbconvert_exporter": "python",
   "pygments_lexer": "ipython3",
   "version": "3.8.8"
  }
 },
 "nbformat": 4,
 "nbformat_minor": 5
}
